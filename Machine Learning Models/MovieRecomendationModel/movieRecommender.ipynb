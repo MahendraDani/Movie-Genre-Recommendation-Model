{
 "cells": [
  {
   "attachments": {},
   "cell_type": "markdown",
   "metadata": {},
   "source": [
    "## Movie Genre Recommendation Machine Learning Model"
   ]
  },
  {
   "attachments": {},
   "cell_type": "markdown",
   "metadata": {},
   "source": [
    "### Libraries"
   ]
  },
  {
   "cell_type": "code",
   "execution_count": null,
   "metadata": {},
   "outputs": [],
   "source": [
    "import pandas\n",
    "from sklearn.tree import DecisionTreeClassifier\n",
    "import matplotlib.pyplot as plt\n",
    "from sklearn import tree\n",
    "from sklearn.model_selection import train_test_split\n",
    "from sklearn.metrics import accuracy_score\n",
    "\n",
    "# Reading Data\n",
    "DataFrame = pandas.read_csv('movie_genres.csv')\n",
    "DataFrame\n",
    "\n",
    "# Statistic of Data\n",
    "DataFrame.describe()\n",
    "\n",
    "# Plotting the Data\n",
    "DataFrame.plot()\n",
    "\n",
    "# Sorting Data as input and output\n",
    "# Input Data\n",
    "X = DataFrame.drop(columns=['Genre'])\n",
    "\n",
    "# Outut Data\n",
    "y = DataFrame['Genre']\n",
    "\n",
    "# Machine Learning Model\n",
    "\n",
    "model = DecisionTreeClassifier()\n",
    "model.fit(X,y)\n",
    "predictions = model.predict([['36','1','4','115','1008']])\n",
    "predictions\n"
   ]
  },
  {
   "attachments": {},
   "cell_type": "markdown",
   "metadata": {},
   "source": [
    "### Visualizing Decision Tree"
   ]
  },
  {
   "cell_type": "code",
   "execution_count": null,
   "metadata": {},
   "outputs": [],
   "source": [
    "\n",
    "tree.export_graphviz(model,out_file='DecisionTree.dot',feature_names=['Age','Gender','Actor','Actress','Director'],class_names = sorted(y.unique()),label='all',rounded=True,filled=False)"
   ]
  }
 ],
 "metadata": {
  "kernelspec": {
   "display_name": "Python 3",
   "language": "python",
   "name": "python3"
  },
  "language_info": {
   "codemirror_mode": {
    "name": "ipython",
    "version": 3
   },
   "file_extension": ".py",
   "mimetype": "text/x-python",
   "name": "python",
   "nbconvert_exporter": "python",
   "pygments_lexer": "ipython3",
   "version": "3.11.1"
  },
  "orig_nbformat": 4,
  "vscode": {
   "interpreter": {
    "hash": "4873c8d68dc7d05f027107aa992795e76291eb1080f3d61c92f530e364807ec7"
   }
  }
 },
 "nbformat": 4,
 "nbformat_minor": 2
}
